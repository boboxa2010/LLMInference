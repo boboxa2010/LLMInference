{
 "cells": [
  {
   "cell_type": "code",
   "execution_count": null,
   "id": "84b26e53",
   "metadata": {},
   "outputs": [],
   "source": [
    "import torch\n",
    "from torch import nn, Tensor\n",
    "from tqdm import tqdm\n",
    "from transformers import AutoTokenizer\n",
    "import torch.nn.functional as F\n",
    "from transformers import AutoModelForCausalLM, AutoTokenizer\n",
    "from datasets import load_dataset\n",
    "from metrics.perplexity import preprocess, calculate_perplexity\n",
    "from metrics.lm_eval import eval_lambda\n",
    "\n",
    "device = \"cuda:7\" if torch.cuda.is_available() else \"cpu\""
   ]
  },
  {
   "cell_type": "code",
   "execution_count": 6,
   "id": "21484813",
   "metadata": {},
   "outputs": [
    {
     "data": {
      "application/vnd.jupyter.widget-view+json": {
       "model_id": "e261436615ef403a9751a99fdde49e7a",
       "version_major": 2,
       "version_minor": 0
      },
      "text/plain": [
       "Loading checkpoint shards:   0%|          | 0/2 [00:00<?, ?it/s]"
      ]
     },
     "metadata": {},
     "output_type": "display_data"
    }
   ],
   "source": [
    "model_path = \"/home/boboxa/llm_inference/llama3.2-3b\"\n",
    "\n",
    "model = AutoModelForCausalLM.from_pretrained(model_path).to(device)\n",
    "tokenizer = AutoTokenizer.from_pretrained(model_path)"
   ]
  },
  {
   "cell_type": "code",
   "execution_count": null,
   "id": "da6a3f85",
   "metadata": {},
   "outputs": [
    {
     "name": "stderr",
     "output_type": "stream",
     "text": [
      "Token indices sequence length is longer than the specified maximum sequence length for this model (289077 > 131072). Running this sequence through the model will result in indexing errors\n"
     ]
    }
   ],
   "source": [
    "dataset = load_dataset(\"wikitext\", \"wikitext-2-raw-v1\", split=\"test\")\n",
    "\n",
    "data = preprocess(dataset['text'], tokenizer, device)"
   ]
  },
  {
   "cell_type": "code",
   "execution_count": 7,
   "id": "40c20be6",
   "metadata": {},
   "outputs": [
    {
     "name": "stderr",
     "output_type": "stream",
     "text": [
      "100%|██████████| 564/564 [01:55<00:00,  4.88it/s]\n"
     ]
    }
   ],
   "source": [
    "ppl_model = calculate_perplexity(model, data, tokenizer, model.device, 512)"
   ]
  },
  {
   "cell_type": "code",
   "execution_count": null,
   "id": "898c37cd",
   "metadata": {},
   "outputs": [],
   "source": [
    "from transformers import AutoModelForCausalLM, AutoTokenizer, GPTQConfig\n",
    "\n",
    "gptq_config = GPTQConfig(bits=4, dataset=\"c4\", tokenizer=tokenizer)\n",
    "quantized_model = AutoModelForCausalLM.from_pretrained(model_path, device_map=\"auto\", quantization_config=gptq_config)"
   ]
  },
  {
   "cell_type": "code",
   "execution_count": 9,
   "id": "5bb3869d",
   "metadata": {},
   "outputs": [
    {
     "data": {
      "text/plain": [
       "('/home/boboxa/llm_inference/llama3.2-3b-gptq/tokenizer_config.json',\n",
       " '/home/boboxa/llm_inference/llama3.2-3b-gptq/special_tokens_map.json',\n",
       " '/home/boboxa/llm_inference/llama3.2-3b-gptq/tokenizer.json')"
      ]
     },
     "execution_count": 9,
     "metadata": {},
     "output_type": "execute_result"
    }
   ],
   "source": [
    "quantized_model.save_pretrained(\"/home/boboxa/llm_inference/llama3.2-3b-gptq\")\n",
    "tokenizer.save_pretrained(\"/home/boboxa/llm_inference/llama3.2-3b-gptq\")"
   ]
  },
  {
   "cell_type": "code",
   "execution_count": null,
   "id": "0ed50c82",
   "metadata": {},
   "outputs": [],
   "source": [
    "gptq_model = AutoModelForCausalLM.from_pretrained('/home/boboxa/llm_inference/llama3.2-3b-gptq', device_map=device)"
   ]
  },
  {
   "cell_type": "code",
   "execution_count": 30,
   "id": "cc82635a",
   "metadata": {},
   "outputs": [
    {
     "name": "stderr",
     "output_type": "stream",
     "text": [
      "100%|██████████| 564/564 [00:48<00:00, 11.62it/s]\n"
     ]
    }
   ],
   "source": [
    "ppl_model_gptq = calculate_perplexity(gptq_model, data, tokenizer, gptq_model.device, 512)"
   ]
  },
  {
   "cell_type": "code",
   "execution_count": 31,
   "id": "082ef8b7",
   "metadata": {},
   "outputs": [
    {
     "data": {
      "text/plain": [
       "17.245698928833008"
      ]
     },
     "execution_count": 31,
     "metadata": {},
     "output_type": "execute_result"
    }
   ],
   "source": [
    "ppl_model_gptq"
   ]
  },
  {
   "cell_type": "code",
   "execution_count": 32,
   "id": "a4a0d826",
   "metadata": {},
   "outputs": [],
   "source": [
    "gptq_model = AutoModelForCausalLM.from_pretrained('shuyuej/Llama-3.2-3B-GPTQ', device_map=device)"
   ]
  },
  {
   "cell_type": "code",
   "execution_count": 33,
   "id": "11ad62aa",
   "metadata": {},
   "outputs": [
    {
     "name": "stderr",
     "output_type": "stream",
     "text": [
      "100%|██████████| 564/564 [00:48<00:00, 11.56it/s]\n"
     ]
    }
   ],
   "source": [
    "ppl_model_gptq = calculate_perplexity(gptq_model, data, tokenizer, gptq_model.device, 512)"
   ]
  },
  {
   "cell_type": "code",
   "execution_count": 34,
   "id": "a48bf2fb",
   "metadata": {},
   "outputs": [
    {
     "data": {
      "text/plain": [
       "14.877720832824707"
      ]
     },
     "execution_count": 34,
     "metadata": {},
     "output_type": "execute_result"
    }
   ],
   "source": [
    "ppl_model_gptq"
   ]
  },
  {
   "cell_type": "code",
   "execution_count": null,
   "id": "7ecb47f1",
   "metadata": {},
   "outputs": [],
   "source": [
    "from transformers import AutoModelForCausalLM, AutoTokenizer, GPTQConfig\n",
    "\n",
    "gptq_config = GPTQConfig(bits=4, dataset=\"wikitext2\", tokenizer=tokenizer)\n",
    "quantized_model = AutoModelForCausalLM.from_pretrained(model_path, device_map=device, quantization_config=gptq_config)"
   ]
  }
 ],
 "metadata": {
  "kernelspec": {
   "display_name": "myenv",
   "language": "python",
   "name": "python3"
  },
  "language_info": {
   "codemirror_mode": {
    "name": "ipython",
    "version": 3
   },
   "file_extension": ".py",
   "mimetype": "text/x-python",
   "name": "python",
   "nbconvert_exporter": "python",
   "pygments_lexer": "ipython3",
   "version": "3.10.12"
  }
 },
 "nbformat": 4,
 "nbformat_minor": 5
}
